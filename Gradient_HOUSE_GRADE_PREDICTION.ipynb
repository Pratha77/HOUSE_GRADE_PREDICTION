{
  "cells": [
    {
      "cell_type": "markdown",
      "metadata": {
        "id": "vHd1o0pqqcz-"
      },
      "source": [
        "### Import Dependencies"
      ]
    },
    {
      "cell_type": "code",
      "execution_count": null,
      "metadata": {
        "id": "qD7MQunCqc0B"
      },
      "outputs": [],
      "source": [
        "import pandas as pd\n",
        "import numpy as np\n",
        "import matplotlib.pyplot as plt\n",
        "import seaborn as sns\n",
        "from sklearn.preprocessing import StandardScaler\n",
        "\n",
        "import warnings\n",
        "warnings.filterwarnings(\"ignore\")\n",
        "\n",
        "%matplotlib inline"
      ]
    },
    {
      "cell_type": "markdown",
      "metadata": {
        "id": "SFmDcRoNqc0D"
      },
      "source": [
        "### Loading the dataset"
      ]
    },
    {
      "cell_type": "code",
      "execution_count": null,
      "metadata": {
        "scrolled": true,
        "id": "_VRlo3Pzqc0D"
      },
      "outputs": [],
      "source": [
        "#Import Training and Testing Data for preprocessing\n",
        "\n",
        "training_data = pd.read_csv(\"TRAINING_.csv\",index_col=0,header=0,delimiter=\" *, *\")\n",
        "testing_data = pd.read_csv(\"TEST_.csv\",header=0,delimiter=\" *, *\")\n",
        "print(training_data.shape)\n",
        "print(testing_data.shape)"
      ]
    },
    {
      "cell_type": "code",
      "execution_count": null,
      "metadata": {
        "id": "4rHh1X54qc0E"
      },
      "outputs": [],
      "source": [
        "training_data.head()"
      ]
    },
    {
      "cell_type": "code",
      "execution_count": null,
      "metadata": {
        "id": "hPMWrLZTqc0F"
      },
      "outputs": [],
      "source": [
        "testing_data.head()"
      ]
    },
    {
      "cell_type": "code",
      "execution_count": null,
      "metadata": {
        "id": "zJpjttHSqc0F"
      },
      "outputs": [],
      "source": [
        "training_data=training_data[['Area(total)','Troom','Nbedrooms','Nbwashrooms',\n",
        "                             'Twashrooms','roof','Roof(Area)','Lawn(Area)','Nfloors','API','ANB','EXPECTED','Grade']]"
      ]
    },
    {
      "cell_type": "code",
      "execution_count": null,
      "metadata": {
        "id": "-uf5v8hBqc0F"
      },
      "outputs": [],
      "source": [
        "training_data.columns"
      ]
    },
    {
      "cell_type": "code",
      "execution_count": null,
      "metadata": {
        "id": "1EfBHL0sqc0F"
      },
      "outputs": [],
      "source": [
        "training_data.head()"
      ]
    },
    {
      "cell_type": "markdown",
      "metadata": {
        "id": "Ms-RvUjDqc0G"
      },
      "source": [
        "### Shape of dataset"
      ]
    },
    {
      "cell_type": "code",
      "execution_count": null,
      "metadata": {
        "id": "gPyNc4aBqc0G"
      },
      "outputs": [],
      "source": [
        "print(training_data.describe())\n",
        "\n",
        "print(training_data.shape)\n",
        "\n",
        "print(training_data.dtypes)"
      ]
    },
    {
      "cell_type": "markdown",
      "metadata": {
        "id": "TGVrI6Chqc0H"
      },
      "source": [
        "### finding the missing values"
      ]
    },
    {
      "cell_type": "code",
      "execution_count": null,
      "metadata": {
        "id": "sosYCxAhqc0H"
      },
      "outputs": [],
      "source": [
        "print(training_data.isnull().sum())\n",
        "print(testing_data.isnull().sum())"
      ]
    },
    {
      "cell_type": "code",
      "execution_count": null,
      "metadata": {
        "id": "g9ohTkUrqc0H"
      },
      "outputs": [],
      "source": [
        "for i in training_data.columns:\n",
        "    print()\n",
        "    print(i, \"--\"*25)\n",
        "    print(list(training_data[i].unique()))"
      ]
    },
    {
      "cell_type": "code",
      "execution_count": null,
      "metadata": {
        "id": "IcOQShpUqc0H"
      },
      "outputs": [],
      "source": [
        "#replacing lower case to uppercase\n",
        "training_data['roof'] = training_data['roof'].str.replace('no','NO')\n",
        "training_data['roof'] = training_data['roof'].str.replace('yes','YES')"
      ]
    },
    {
      "cell_type": "code",
      "execution_count": null,
      "metadata": {
        "id": "KOHHUu-vqc0I"
      },
      "outputs": [],
      "source": [
        "training_data['roof'].mode()"
      ]
    },
    {
      "cell_type": "code",
      "execution_count": null,
      "metadata": {
        "id": "ErygbiY5qc0I"
      },
      "outputs": [],
      "source": [
        "### replacing nan value to mean or mode according to the datatype of column"
      ]
    },
    {
      "cell_type": "code",
      "execution_count": null,
      "metadata": {
        "id": "gli6fQnkqc0I"
      },
      "outputs": [],
      "source": [
        "for value in [\"Troom\",\"Nbedrooms\",\"Nbwashrooms\",\"Twashrooms\",\"roof\"]:\n",
        "    training_data[value].fillna(training_data[value].mode()[0],inplace=True)"
      ]
    },
    {
      "cell_type": "code",
      "execution_count": null,
      "metadata": {
        "id": "5A4yiGLBqc0I"
      },
      "outputs": [],
      "source": [
        "training_data['API'].fillna(float(round(training_data['API'].mean())),inplace=True)"
      ]
    },
    {
      "cell_type": "code",
      "execution_count": null,
      "metadata": {
        "id": "2NQupyPQqc0I"
      },
      "outputs": [],
      "source": [
        "# float(round(training_data['API'].mean()))"
      ]
    },
    {
      "cell_type": "code",
      "execution_count": null,
      "metadata": {
        "id": "tzqVh-eiqc0J"
      },
      "outputs": [],
      "source": [
        "# we found out that in roof column we got \"NO\" as mode value so in Roof(Area) column we replaced the missing value by \"Zero\"\n",
        "training_data['Roof(Area)'].fillna(float(0),inplace=True)"
      ]
    },
    {
      "cell_type": "code",
      "execution_count": null,
      "metadata": {
        "id": "-Z2z6c6uqc0J"
      },
      "outputs": [],
      "source": [
        "# float(round(training_data['Roof(Area)'].mean()))"
      ]
    },
    {
      "cell_type": "code",
      "execution_count": null,
      "metadata": {
        "id": "S3q1vsv2qc0J"
      },
      "outputs": [],
      "source": [
        "training_data['Lawn(Area)'].fillna(float(round(training_data['Lawn(Area)'].mean())),inplace=True)"
      ]
    },
    {
      "cell_type": "code",
      "execution_count": null,
      "metadata": {
        "id": "xAfgCz7kqc0J"
      },
      "outputs": [],
      "source": [
        "training_data[\"EXPECTED\"]=training_data[\"EXPECTED\"].str.rstrip(\"$\")"
      ]
    },
    {
      "cell_type": "code",
      "execution_count": null,
      "metadata": {
        "id": "FjQBYgOOqc0J"
      },
      "outputs": [],
      "source": [
        "training_data[\"EXPECTED\"] = training_data[\"EXPECTED\"].apply(lambda x: int(x))"
      ]
    },
    {
      "cell_type": "code",
      "execution_count": null,
      "metadata": {
        "scrolled": true,
        "id": "8SgTMrZiqc0J"
      },
      "outputs": [],
      "source": [
        "# finding the missing values\n",
        "\n",
        "print(training_data.isnull().sum())"
      ]
    },
    {
      "cell_type": "markdown",
      "metadata": {
        "id": "MhfXkiqPqc0K"
      },
      "source": [
        "#### we will handle the missing values in test data also"
      ]
    },
    {
      "cell_type": "code",
      "execution_count": null,
      "metadata": {
        "id": "C8azbGsqqc0K"
      },
      "outputs": [],
      "source": [
        "#replacing lower case to uppercase\n",
        "testing_data['roof'] = testing_data['roof'].str.replace('no','NO')\n",
        "testing_data['roof'] = testing_data['roof'].str.replace('yes','YES')"
      ]
    },
    {
      "cell_type": "code",
      "execution_count": null,
      "metadata": {
        "id": "-gmAEAPsqc0K"
      },
      "outputs": [],
      "source": [
        "testing_data['roof'].mode()"
      ]
    },
    {
      "cell_type": "code",
      "execution_count": null,
      "metadata": {
        "id": "FxkaOf-Eqc0K"
      },
      "outputs": [],
      "source": [
        "# replacing nan value to mean or mode according to the datatype of column\n",
        "\n",
        "for value in [\"Troom\",\"Nbedrooms\",\"Nbwashrooms\",\"Twashrooms\",\"roof\"]:\n",
        "    testing_data[value].fillna(testing_data[value].mode()[0],inplace=True)"
      ]
    },
    {
      "cell_type": "code",
      "execution_count": null,
      "metadata": {
        "id": "r_mRjYWmqc0K"
      },
      "outputs": [],
      "source": [
        "testing_data['API'].fillna(float(round(testing_data['API'].mean())),inplace=True)"
      ]
    },
    {
      "cell_type": "code",
      "execution_count": null,
      "metadata": {
        "id": "z-jK9Oxjqc0K"
      },
      "outputs": [],
      "source": [
        "float(round(testing_data['API'].mean()))"
      ]
    },
    {
      "cell_type": "code",
      "execution_count": null,
      "metadata": {
        "id": "RTPqiYO2qc0L"
      },
      "outputs": [],
      "source": [
        "#As we found out that in roof column we got \"NO\" as mode value so in Roof(Area) column we replaced the missing value by \"Zero\"\n",
        "testing_data['Roof(Area)'].fillna(float(0),inplace=True)"
      ]
    },
    {
      "cell_type": "code",
      "execution_count": null,
      "metadata": {
        "id": "mmalRJkPqc0L"
      },
      "outputs": [],
      "source": [
        "testing_data['Lawn(Area)'].fillna(float(round(training_data['Lawn(Area)'].mean())),inplace=True)"
      ]
    },
    {
      "cell_type": "code",
      "execution_count": null,
      "metadata": {
        "id": "KpmBuPN9qc0L"
      },
      "outputs": [],
      "source": [
        "testing_data[\"EXPECTED\"]=testing_data[\"EXPECTED\"].str.rstrip(\"$\")"
      ]
    },
    {
      "cell_type": "code",
      "execution_count": null,
      "metadata": {
        "id": "AD4JDZ3Yqc0L"
      },
      "outputs": [],
      "source": [
        "testing_data[\"EXPECTED\"] = testing_data[\"EXPECTED\"].apply(lambda x: int(x))"
      ]
    },
    {
      "cell_type": "code",
      "execution_count": null,
      "metadata": {
        "scrolled": true,
        "id": "L5eX4jKQqc0L"
      },
      "outputs": [],
      "source": [
        "print(testing_data.isnull().sum())"
      ]
    },
    {
      "cell_type": "markdown",
      "metadata": {
        "id": "EJWeEAhQqc0M"
      },
      "source": [
        "### Data Visualizations"
      ]
    },
    {
      "cell_type": "code",
      "execution_count": null,
      "metadata": {
        "id": "K6JhiPwCqc0M"
      },
      "outputs": [],
      "source": [
        "def create_piechart(data, column):\n",
        "    \"\"\"\n",
        "    objective: Create piechart for categorical varaibles present in pandas Dataframe\n",
        "\n",
        "    parameter:\n",
        "        data: this is pandas dataframe\n",
        "        colimn: thie is column name which is used to create plot\n",
        "\n",
        "    return:\n",
        "        this will show piechart\n",
        "    \"\"\"\n",
        "    labels = list(data[column].value_counts().to_dict().keys())\n",
        "    sizes = list(data[column].value_counts().to_dict().values())\n",
        "\n",
        "    plt.pie(sizes,\n",
        "           labels=labels,\n",
        "           autopct='%1.2f%%',\n",
        "           shadow=False,\n",
        "           startangle=45)\n",
        "\n",
        "    plt.axis('equal')\n",
        "    plt.title(\"Piechart - {}\".format(column))\n",
        "    plt.show()"
      ]
    },
    {
      "cell_type": "code",
      "execution_count": null,
      "metadata": {
        "id": "1Qy4y2kYqc0Q"
      },
      "outputs": [],
      "source": [
        "create_piechart(training_data, \"Grade\")"
      ]
    },
    {
      "cell_type": "markdown",
      "metadata": {
        "id": "f2694Gcgqc0S"
      },
      "source": [
        "### Label Encoding"
      ]
    },
    {
      "cell_type": "code",
      "execution_count": null,
      "metadata": {
        "id": "pdycQYSnqc0S"
      },
      "outputs": [],
      "source": [
        "training_data[\"roof\"] = training_data[\"roof\"].map({\"YES\":1,\"NO\":0})"
      ]
    },
    {
      "cell_type": "code",
      "execution_count": null,
      "metadata": {
        "id": "PG-Jal9Zqc0S"
      },
      "outputs": [],
      "source": [
        "testing_data[\"roof\"] = testing_data[\"roof\"].map({\"YES\":1,\"NO\":0})"
      ]
    },
    {
      "cell_type": "code",
      "execution_count": null,
      "metadata": {
        "id": "o7N1sRBUqc0S"
      },
      "outputs": [],
      "source": [
        "training_data[\"Grade\"] = training_data[\"Grade\"].map({\"A\":1,\"B\":2,\"C\":3,\"D\":4,\"E\":5})"
      ]
    },
    {
      "cell_type": "code",
      "execution_count": null,
      "metadata": {
        "id": "qTwfz9Jqqc0S"
      },
      "outputs": [],
      "source": [
        "print(training_data.head())\n",
        "\n",
        "print(testing_data.head())"
      ]
    },
    {
      "cell_type": "code",
      "execution_count": null,
      "metadata": {
        "id": "NN57RYXZqc0T"
      },
      "outputs": [],
      "source": []
    },
    {
      "cell_type": "code",
      "execution_count": null,
      "metadata": {
        "id": "WAhVTlV1qc0T"
      },
      "outputs": [],
      "source": [
        "print(training_data.dtypes)"
      ]
    },
    {
      "cell_type": "markdown",
      "metadata": {
        "id": "4DN1gxIWqc0T"
      },
      "source": [
        "### Splitting the data into X and y"
      ]
    },
    {
      "cell_type": "code",
      "execution_count": null,
      "metadata": {
        "id": "5es7ORNxqc0T"
      },
      "outputs": [],
      "source": [
        "X_train = training_data[['Area(total)','Troom','Nbedrooms','Nbwashrooms','Twashrooms','roof','Roof(Area)','Lawn(Area)','Nfloors','API','ANB','EXPECTED']]\n",
        "y_train = training_data['Grade']"
      ]
    },
    {
      "cell_type": "code",
      "execution_count": null,
      "metadata": {
        "id": "xuHfJswJqc0T"
      },
      "outputs": [],
      "source": [
        "X_test = testing_data[['Area(total)','Troom','Nbedrooms','Nbwashrooms','Twashrooms','roof','Roof(Area)','Lawn(Area)','Nfloors','API','ANB','EXPECTED']]"
      ]
    },
    {
      "cell_type": "code",
      "execution_count": null,
      "metadata": {
        "scrolled": true,
        "id": "dtYrIpykqc0T"
      },
      "outputs": [],
      "source": [
        "X_train.shape"
      ]
    },
    {
      "cell_type": "code",
      "execution_count": null,
      "metadata": {
        "id": "Ap4u2DXiqc0U"
      },
      "outputs": [],
      "source": [
        "y_train.shape"
      ]
    },
    {
      "cell_type": "code",
      "execution_count": null,
      "metadata": {
        "id": "bO_4yhosqc0U"
      },
      "outputs": [],
      "source": [
        "X_test.shape"
      ]
    },
    {
      "cell_type": "code",
      "execution_count": null,
      "metadata": {
        "id": "OpWUna8sqc0U"
      },
      "outputs": [],
      "source": [
        "y_train = y_train.astype(int)"
      ]
    },
    {
      "cell_type": "code",
      "execution_count": null,
      "metadata": {
        "id": "2rdENNqmqc0U"
      },
      "outputs": [],
      "source": [
        "y_train"
      ]
    },
    {
      "cell_type": "markdown",
      "metadata": {
        "id": "M2p1pLtaqc0U"
      },
      "source": [
        "#### Using Standard Scaler"
      ]
    },
    {
      "cell_type": "code",
      "execution_count": null,
      "metadata": {
        "scrolled": true,
        "id": "Gz2GEGDRqc0U"
      },
      "outputs": [],
      "source": [
        "from sklearn.preprocessing import StandardScaler\n",
        "\n",
        "scaler = StandardScaler()\n",
        "\n",
        "scaler.fit(X_train)\n",
        "X_train = scaler.transform(X_train)\n",
        "\n",
        "X_test = scaler.transform(X_test)"
      ]
    },
    {
      "cell_type": "code",
      "execution_count": null,
      "metadata": {
        "id": "93A-yanLqc0V"
      },
      "outputs": [],
      "source": [
        "print(X_train.shape)\n",
        "print(X_test.shape)"
      ]
    },
    {
      "cell_type": "markdown",
      "metadata": {
        "id": "q6kVniSNqc0V"
      },
      "source": [
        "#### Using GradientBoostingclassifier in decisiontree"
      ]
    },
    {
      "cell_type": "code",
      "execution_count": null,
      "metadata": {
        "id": "O2NufQSOqc0V"
      },
      "outputs": [],
      "source": [
        "from sklearn.ensemble import GradientBoostingClassifier\n",
        "\n",
        "model_GradientBoosting = GradientBoostingClassifier(\n",
        "                                       n_estimators=150,\n",
        "                                      random_state=20)\n",
        "#fir the model on the data oand predict the values\n",
        "model_GradientBoosting.fit(X_train,y_train)\n",
        "\n",
        "\n",
        "y_pred=model_GradientBoosting.predict(X_test)"
      ]
    },
    {
      "cell_type": "code",
      "execution_count": null,
      "metadata": {
        "id": "oyqG9Stsqc0V"
      },
      "outputs": [],
      "source": [
        "testing_data = pd.read_csv(\"TEST_.csv\")"
      ]
    },
    {
      "cell_type": "code",
      "execution_count": null,
      "metadata": {
        "id": "GVgI5Bc_qc0W"
      },
      "outputs": [],
      "source": [
        "testing_data[\"Grade\"] = y_pred"
      ]
    },
    {
      "cell_type": "code",
      "execution_count": null,
      "metadata": {
        "id": "UMTf8aKbqc0W"
      },
      "outputs": [],
      "source": [
        "testing_data[\"Grade\"]=testing_data[\"Grade\"].map({1: \"A\", 2: \"B\", 3:\"C\", 4:\"D\", 5:\"E\"})"
      ]
    },
    {
      "cell_type": "code",
      "execution_count": null,
      "metadata": {
        "id": "k4JKXuTDqc0W"
      },
      "outputs": [],
      "source": [
        "testing_data.head()"
      ]
    },
    {
      "cell_type": "code",
      "execution_count": null,
      "metadata": {
        "id": "Hr0ROPFtqc0W"
      },
      "outputs": [],
      "source": [
        "A = testing_data[['id','Grade']]"
      ]
    },
    {
      "cell_type": "code",
      "execution_count": null,
      "metadata": {
        "id": "SqUVmJSiqc0W"
      },
      "outputs": [],
      "source": [
        "A.to_csv(\"Submission_Gradient(6)\", index=False)"
      ]
    }
  ],
  "metadata": {
    "kernelspec": {
      "display_name": "Python 3",
      "language": "python",
      "name": "python3"
    },
    "language_info": {
      "codemirror_mode": {
        "name": "ipython",
        "version": 3
      },
      "file_extension": ".py",
      "mimetype": "text/x-python",
      "name": "python",
      "nbconvert_exporter": "python",
      "pygments_lexer": "ipython3",
      "version": "3.7.6"
    },
    "colab": {
      "provenance": []
    }
  },
  "nbformat": 4,
  "nbformat_minor": 0
}